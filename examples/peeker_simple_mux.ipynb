{
 "cells": [
  {
   "cell_type": "markdown",
   "metadata": {
    "deletable": true,
    "editable": true
   },
   "source": [
    "# A Simple Multiplexer Example\n",
    "\n",
    "This example shows how to use the `myhdlpeek` module to monitor the inputs and output of a simple, two-input multiplexer."
   ]
  },
  {
   "cell_type": "code",
   "execution_count": 1,
   "metadata": {
    "collapsed": false,
    "deletable": true,
    "editable": true
   },
   "outputs": [
    {
     "name": "stdout",
     "output_type": "stream",
     "text": [
      "t  z a b sel\n",
      "1  0 6 0 False\n",
      "2  3 7 3 False\n",
      "3  1 3 1 False\n",
      "4  6 6 2 1\n",
      "5  5 5 6 1\n",
      "6  6 3 6 0\n",
      "7  4 5 4 0\n",
      "8  1 6 1 0\n"
     ]
    },
    {
     "name": "stderr",
     "output_type": "stream",
     "text": [
      "<class 'myhdl.StopSimulation'>: No more events\n"
     ]
    },
    {
     "data": {
      "text/html": [
       "<div><script type=\"WaveDrom\">{\"signal\": []}</script></div>"
      ]
     },
     "metadata": {},
     "output_type": "display_data"
    },
    {
     "data": {
      "application/javascript": [
       "$.getScript(\"http://wavedrom.com/wavedrom.min.js\", function () {\n",
       "$.getScript(\"http://wavedrom.com/skins/default.js\", function () {\n",
       "WaveDrom.ProcessAll();});\n",
       "});\n"
      ]
     },
     "metadata": {},
     "output_type": "display_data"
    }
   ],
   "source": [
    "from myhdl import *\n",
    "from myhdlpeek import Peeker  # Import the myhdlpeeker module.\n",
    "\n",
    "def mux(z, a, b, sel):\n",
    "    \"\"\"A simple multiplexer.\"\"\"\n",
    "\n",
    "    @always_comb\n",
    "    def mux_logic():\n",
    "        if sel == 1:\n",
    "            z.next = a  # Signal a sent to mux output when sel is high.\n",
    "        else:\n",
    "            z.next = b  # Signal b sent to mux output when sel is low.\n",
    "           \n",
    "    return mux_logic\n",
    "\n",
    "# Create some signals to attach to the multiplexer.\n",
    "a, b, z = [Signal(0) for _ in range(3)]  # Integer signals for the inputs & output.\n",
    "sel = Signal(bool(0))                    # Binary signal for the selector.\n",
    "\n",
    "# Create some Peekers to monitor the multiplexer I/Os.\n",
    "p = Peeker(a=a, b=b, z=z, select=sel)\n",
    "\n",
    "# Instantiate mux.\n",
    "mux_1 = mux(z, a, b, sel)\n",
    "\n",
    "# Create a simple testbed to apply random patterns to the multiplexer.\n",
    "from random import randrange\n",
    "def test():\n",
    "    '''Simple testbed generator that applies random inputs to the multiplexer.'''\n",
    "    print(\"t  z a b sel\")\n",
    "    for _ in range(8):\n",
    "        a.next, b.next, sel.next = randrange(8), randrange(8), randrange(2)\n",
    "        yield delay(1)\n",
    "        print(\"%d  %s %s %s %s\" % (now(), z, a, b, sel))\n",
    "\n",
    "# Simulate the multiplexer, testbed and the peekers.\n",
    "sim = Simulation(mux_1, test(), p.instances(), ).run()\n",
    "\n",
    "# Display the complete waveforms captured by all the Peekers. \n",
    "p.to_wavedrom()\n"
   ]
  },
  {
   "cell_type": "code",
   "execution_count": null,
   "metadata": {
    "collapsed": true
   },
   "outputs": [],
   "source": []
  }
 ],
 "metadata": {
  "kernelspec": {
   "display_name": "Python 3",
   "language": "python",
   "name": "python3"
  },
  "language_info": {
   "codemirror_mode": {
    "name": "ipython",
    "version": 3
   },
   "file_extension": ".py",
   "mimetype": "text/x-python",
   "name": "python",
   "nbconvert_exporter": "python",
   "pygments_lexer": "ipython3",
   "version": "3.5.2"
  }
 },
 "nbformat": 4,
 "nbformat_minor": 2
}
