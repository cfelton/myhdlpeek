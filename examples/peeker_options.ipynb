{
  "cells": [
    {
      "cell_type": "markdown",
      "source": [
        "# Peeker Options\n",
        "\n",
        "Once the simulation has run and all the peekers have gathered their signal traces, you can show the waveforms in various ways.\n",
        "The options that affect the waveform display will be illustrated using the hierarchical adder example shown below."
      ],
      "metadata": {
        "deletable": true,
        "editable": true
      }
    },
    {
      "cell_type": "code",
      "source": [
        "from myhdl import *\n",
        "from myhdlpeek import Peeker, merge_all\n",
        "\n",
        "def adder_bit(a, b, c_in, sum_, c_out):\n",
        "    '''Single bit adder.'''\n",
        "    @always_comb\n",
        "    def adder_logic():\n",
        "        sum_.next = a ^ b ^ c_in\n",
        "        c_out.next = (a & b) | (a & c_in) | (b & c_in)\n",
        "    \n",
        "    # Add some peekers to monitor the inputs and outputs.\n",
        "    p = Peeker(a=a, b=b, c_in=c_in, sum=sum_, c_out=c_out)\n",
        "    \n",
        "    return adder_logic\n",
        "\n",
        "def adder(a, b, sum_):\n",
        "    '''Connect single-bit adders to create a complete adder.'''\n",
        "    c = [Signal(bool(0)) for _ in range(len(a)+1)] # Carry signals between stages.\n",
        "    s = [Signal(bool(0)) for _ in range(len(a))] # Sum bit for each stage.\n",
        "    stages = []  # Storage for adder bit instances.\n",
        "    # Create the adder bits and connect them together.\n",
        "    for i in range(len(a)):\n",
        "        stages.append( adder_bit(a=a(i), b=b(i), sum_=s[i], c_in=c[i], c_out=c[i+1]) )\n",
        "    # Concatenate the sum bits and send them out on the sum_ output.\n",
        "    @always_comb\n",
        "    def make_sum():\n",
        "        sum_.next = ConcatSignal(*reversed(s))\n",
        "    return instances()  # Return all the adder stage instances.\n",
        "\n",
        "# Create signals for interfacing to the adder.\n",
        "a, b, sum_ = [Signal(intbv(0,0,8)) for _ in range(3)]\n",
        "\n\n",
        "# Instantiate the adder.\n",
        "add_1 = adder(a=a, b=b, sum_=sum_)\n",
        "\n",
        "# Create some more peekers to monitor the top-level buses.\n",
        "p = Peeker(a_bus=a, b_bus=b, sum_bus=sum_, name='top')\n",
        "\n",
        "# Create a testbench generator that applies random inputs to the adder.\n",
        "from random import randrange\n",
        "def test():\n",
        "    for _ in range(8):\n",
        "        a.next, b.next = randrange(0, a.max), randrange(0, a.max)\n",
        "        yield delay(1)\n",
        "\n",
        "ap = merge_all()\n",
        "# Simulate the adder, testbench and peekers.\n",
        "Simulation(add_1, test(), ap.instances(),).run()"
      ],
      "outputs": [
        {
          "output_type": "stream",
          "name": "stderr",
          "text": [
            "<class 'myhdl.StopSimulation'>: No more events\n"
          ]
        },
        {
          "output_type": "execute_result",
          "execution_count": 1,
          "data": {
            "text/plain": [
              "0"
            ]
          },
          "metadata": {}
        }
      ],
      "execution_count": 1,
      "metadata": {
        "collapsed": false,
        "deletable": true,
        "editable": true,
        "scrolled": true
      }
    },
    {
      "cell_type": "markdown",
      "source": [
        "## Selecting Waveforms to Display\n",
        "\nBy default, `to_wavedrom` shows all the captured waveforms. But you can also specify a subset of the waveforms for display:"
      ],
      "metadata": {
        "deletable": true,
        "editable": true
      }
    },
    {
      "cell_type": "code",
      "source": [
        "p.to_wavedrom('a_bus', 'b_bus', 'sum_bus', 'sum[2]', 'sum[1]', 'sum[0]')"
      ],
      "outputs": [
        {
          "output_type": "display_data",
          "data": {
            "text/html": [
              "<div><script type=\"WaveDrom\">{\"foot\": {\"tock\": \"a_bus\", \"tick\": \"a_bus\", \"text\": [\"tspan\", [\"tspan\", {\"font-style\": \"italic\"}, \"sum[2]\"]]}, \"head\": {\"tock\": \"a_bus\", \"tick\": \"a_bus\", \"text\": [\"tspan\", [\"tspan\", {\"font-weight\": \"bold\", \"font-size\": \"16\", \"fill\": \"blue\"}, \"sum_bus\"]]}, \"signal\": []}</script></div>"
            ]
          },
          "metadata": {}
        },
        {
          "output_type": "display_data",
          "data": {
            "application/javascript": [
              "$.getScript(\"http://wavedrom.com/wavedrom.min.js\", function () {\n",
              "$.getScript(\"http://wavedrom.com/skins/default.js\", function () {\n",
              "WaveDrom.ProcessAll();});\n",
              "});\n"
            ]
          },
          "metadata": {}
        }
      ],
      "execution_count": 3,
      "metadata": {
        "collapsed": false,
        "deletable": true,
        "editable": true
      }
    },
    {
      "cell_type": "markdown",
      "source": [
        "If you don't like typing all those quotation marks, you can place multiple, space-separated peeker names inside a string:"
      ],
      "metadata": {
        "deletable": true,
        "editable": true
      }
    },
    {
      "cell_type": "code",
      "source": [
        "Peeker.to_wavedrom('a_bus b_bus sum_bus sum[2] sum[1] sum[0]')"
      ],
      "outputs": [],
      "execution_count": null,
      "metadata": {
        "collapsed": false,
        "deletable": true,
        "editable": true
      }
    },
    {
      "cell_type": "markdown",
      "source": [
        "## Spacing the Waveforms\n",
        "\nIf you want to place some space between the waveforms, just insert a string that doesn't match any peeker's name (I like to use a `|` character for that):"
      ],
      "metadata": {
        "deletable": true,
        "editable": true
      }
    },
    {
      "cell_type": "code",
      "source": [
        "Peeker.to_wavedrom('a_bus b_bus | sum_bus sum[2] sum[1] sum[0]')"
      ],
      "outputs": [],
      "execution_count": null,
      "metadata": {
        "collapsed": false,
        "deletable": true,
        "editable": true
      }
    },
    {
      "cell_type": "markdown",
      "source": [
        "## Specifying a Time Window\n",
        "\nTo show only a segment of the waveforms, use the `start_time` and `stop_time` options:"
      ],
      "metadata": {
        "deletable": true,
        "editable": true
      }
    },
    {
      "cell_type": "code",
      "source": [
        "signals = 'a_bus b_bus | sum_bus sum[2] sum[1] sum[0]'\n",
        "Peeker.to_wavedrom(signals, start_time=5, stop_time=15)"
      ],
      "outputs": [],
      "execution_count": null,
      "metadata": {
        "collapsed": false,
        "deletable": true,
        "editable": true
      }
    },
    {
      "cell_type": "markdown",
      "source": [
        "## Showing Cycle Times\n",
        "\nIf it's hard to tell the interval covered by the waveforms, you can turn on the display of cycle times using the `tick` or `tock` options:"
      ],
      "metadata": {
        "deletable": true,
        "editable": true
      }
    },
    {
      "cell_type": "code",
      "source": [
        "Peeker.to_wavedrom(signals, start_time=5, stop_time=15, tock=True)"
      ],
      "outputs": [],
      "execution_count": null,
      "metadata": {
        "collapsed": false,
        "deletable": true,
        "editable": true
      }
    },
    {
      "cell_type": "markdown",
      "source": [
        "## Adding Titles and Captions\n",
        "\nYou can also add a title and caption to your work:"
      ],
      "metadata": {
        "deletable": true,
        "editable": true
      }
    },
    {
      "cell_type": "code",
      "source": [
        "Peeker.to_wavedrom(signals, start_time=5, stop_time=15, tock=True,\n",
        "                   title='Multi-Bit, Hierarchical Adder', caption='It really works!')"
      ],
      "outputs": [],
      "execution_count": null,
      "metadata": {
        "collapsed": false,
        "deletable": true,
        "editable": true
      }
    },
    {
      "cell_type": "markdown",
      "source": [
        "## Setting the Display Size\n",
        "\nPossibly you have less screen real estate available. The `width` option lets you reduce the entire waveform display:"
      ],
      "metadata": {
        "deletable": true,
        "editable": true
      }
    },
    {
      "cell_type": "code",
      "source": [
        "Peeker.to_wavedrom(signals, start_time=5, stop_time=15, tock=True,\n",
        "                   title='Multi-Bit, Hierarchical Adder', caption='It reall works!', width=400)"
      ],
      "outputs": [],
      "execution_count": null,
      "metadata": {
        "collapsed": false,
        "deletable": true,
        "editable": true
      }
    },
    {
      "cell_type": "markdown",
      "source": [
        "## Accessing the WaveJSON Data\n",
        "\nFinally, you might want to get hold of the WaveJSON data directly to get more control over the waveform display. This is done with the `to_wavejson()` method:"
      ],
      "metadata": {
        "deletable": true,
        "editable": true
      }
    },
    {
      "cell_type": "code",
      "source": [
        "wavejson = Peeker.to_wavejson(signals)\n",
        "wavejson"
      ],
      "outputs": [],
      "execution_count": null,
      "metadata": {
        "collapsed": false,
        "deletable": true,
        "editable": true
      }
    },
    {
      "cell_type": "markdown",
      "source": [
        "After you manipulate the WaveJSON data, you can display it using the `wavejson_to_wavedrom()` function:"
      ],
      "metadata": {
        "deletable": true,
        "editable": true
      }
    },
    {
      "cell_type": "code",
      "source": [
        "from myhdlpeek import wavejson_to_wavedrom\n",
        "wavejson_to_wavedrom(wavejson)"
      ],
      "outputs": [],
      "execution_count": null,
      "metadata": {
        "collapsed": false,
        "deletable": true,
        "editable": true
      }
    },
    {
      "cell_type": "code",
      "source": [],
      "outputs": [],
      "execution_count": null,
      "metadata": {
        "collapsed": true,
        "deletable": true,
        "editable": true
      }
    }
  ],
  "metadata": {
    "kernelspec": {
      "name": "python3",
      "language": "python",
      "display_name": "Python 3"
    },
    "language_info": {
      "name": "python",
      "nbconvert_exporter": "python",
      "codemirror_mode": {
        "name": "ipython",
        "version": 3
      },
      "pygments_lexer": "ipython3",
      "version": "3.5.2",
      "mimetype": "text/x-python",
      "file_extension": ".py"
    },
    "kernel_info": {
      "name": "python3"
    }
  },
  "nbformat": 4,
  "nbformat_minor": 2
}